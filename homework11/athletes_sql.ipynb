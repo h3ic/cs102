{
 "cells": [
  {
   "cell_type": "code",
   "execution_count": 1,
   "metadata": {},
   "outputs": [],
   "source": [
    "import psycopg2\n",
    "import csv\n",
    "from tabulate import tabulate\n",
    "import pandas as pd\n",
    "import numpy as np\n",
    "from IPython.display import HTML, display"
   ]
  },
  {
   "cell_type": "code",
   "execution_count": 103,
   "metadata": {},
   "outputs": [],
   "source": [
    "df = pd.read_csv('athlete_events.csv')\n",
    "df = df.fillna(0)\n",
    "df.Age = df.Age.astype('Int32')\n",
    "df.Height = df.Height.astype('Int32')\n",
    "df.to_csv('athlete_events_sql.csv')"
   ]
  },
  {
   "cell_type": "code",
   "execution_count": 43,
   "metadata": {},
   "outputs": [],
   "source": [
    "conn = psycopg2.connect(\"host=localhost port=5432 dbname=odscourse user=postgres password=secret\")\n",
    "cursor = conn.cursor()"
   ]
  },
  {
   "cell_type": "code",
   "execution_count": 4,
   "metadata": {},
   "outputs": [],
   "source": [
    "def fetch_all(cursor):\n",
    "    colnames = [desc[0] for desc in cursor.description]\n",
    "    records = cursor.fetchall()\n",
    "    result = (display(HTML(tabulate(\n",
    "        [{colname:value for colname, value in zip(colnames, record)} for record in records],\n",
    "        tablefmt='html'))))\n",
    "    return result"
   ]
  },
  {
   "cell_type": "code",
   "execution_count": 106,
   "metadata": {},
   "outputs": [],
   "source": [
    "cursor.execute(\n",
    "    \"\"\"\n",
    "    DROP TABLE olympics\n",
    "    \"\"\"\n",
    ")\n",
    "conn.commit()"
   ]
  },
  {
   "cell_type": "code",
   "execution_count": 5,
   "metadata": {},
   "outputs": [],
   "source": [
    "query = \"\"\"\n",
    "CREATE TABLE IF NOT EXISTS olympics (\n",
    "    db_id SERIAL PRIMARY KEY,\n",
    "    id INTEGER,\n",
    "    name VARCHAR,\n",
    "    sex VARCHAR,\n",
    "    age INTEGER,\n",
    "    height INTEGER,\n",
    "    weight REAL,\n",
    "    team VARCHAR,\n",
    "    NOC VARCHAR,\n",
    "    games VARCHAR,\n",
    "    year INTEGER,\n",
    "    season VARCHAR,\n",
    "    city VARCHAR,\n",
    "    sport VARCHAR,\n",
    "    event VARCHAR,\n",
    "    medal VARCHAR\n",
    ")\n",
    "\"\"\"\n",
    "cursor.execute(query)\n",
    "conn.commit()"
   ]
  },
  {
   "cell_type": "code",
   "execution_count": 6,
   "metadata": {},
   "outputs": [],
   "source": [
    "with open('athlete_events_sql.csv', 'r') as f:\n",
    "    reader = csv.reader(f)\n",
    "    next(reader)\n",
    "    for Id, row in enumerate(reader):\n",
    "        cursor.execute(\n",
    "            \"INSERT INTO olympics VALUES (%s, %s, %s, %s, %s, %s, %s, %s, %s, %s, %s, %s, %s, %s, %s, %s)\",\n",
    "            row\n",
    "        )\n",
    "conn.commit()"
   ]
  },
  {
   "cell_type": "code",
   "execution_count": 6,
   "metadata": {},
   "outputs": [],
   "source": [
    "PATH = 'athlete_events_sql.csv'"
   ]
  },
  {
   "cell_type": "code",
   "execution_count": 32,
   "metadata": {},
   "outputs": [
    {
     "data": {
      "text/html": [
       "<div>\n",
       "<style scoped>\n",
       "    .dataframe tbody tr th:only-of-type {\n",
       "        vertical-align: middle;\n",
       "    }\n",
       "\n",
       "    .dataframe tbody tr th {\n",
       "        vertical-align: top;\n",
       "    }\n",
       "\n",
       "    .dataframe thead th {\n",
       "        text-align: right;\n",
       "    }\n",
       "</style>\n",
       "<table border=\"1\" class=\"dataframe\">\n",
       "  <thead>\n",
       "    <tr style=\"text-align: right;\">\n",
       "      <th></th>\n",
       "      <th>Unnamed: 0</th>\n",
       "      <th>ID</th>\n",
       "      <th>Name</th>\n",
       "      <th>Sex</th>\n",
       "      <th>Age</th>\n",
       "      <th>Height</th>\n",
       "      <th>Weight</th>\n",
       "      <th>Team</th>\n",
       "      <th>NOC</th>\n",
       "      <th>Games</th>\n",
       "      <th>Year</th>\n",
       "      <th>Season</th>\n",
       "      <th>City</th>\n",
       "      <th>Sport</th>\n",
       "      <th>Event</th>\n",
       "      <th>Medal</th>\n",
       "    </tr>\n",
       "  </thead>\n",
       "  <tbody>\n",
       "    <tr>\n",
       "      <th>0</th>\n",
       "      <td>0</td>\n",
       "      <td>1</td>\n",
       "      <td>A Dijiang</td>\n",
       "      <td>M</td>\n",
       "      <td>24</td>\n",
       "      <td>180</td>\n",
       "      <td>80.0</td>\n",
       "      <td>China</td>\n",
       "      <td>CHN</td>\n",
       "      <td>1992 Summer</td>\n",
       "      <td>1992</td>\n",
       "      <td>Summer</td>\n",
       "      <td>Barcelona</td>\n",
       "      <td>Basketball</td>\n",
       "      <td>Basketball Men's Basketball</td>\n",
       "      <td>0</td>\n",
       "    </tr>\n",
       "    <tr>\n",
       "      <th>1</th>\n",
       "      <td>1</td>\n",
       "      <td>2</td>\n",
       "      <td>A Lamusi</td>\n",
       "      <td>M</td>\n",
       "      <td>23</td>\n",
       "      <td>170</td>\n",
       "      <td>60.0</td>\n",
       "      <td>China</td>\n",
       "      <td>CHN</td>\n",
       "      <td>2012 Summer</td>\n",
       "      <td>2012</td>\n",
       "      <td>Summer</td>\n",
       "      <td>London</td>\n",
       "      <td>Judo</td>\n",
       "      <td>Judo Men's Extra-Lightweight</td>\n",
       "      <td>0</td>\n",
       "    </tr>\n",
       "    <tr>\n",
       "      <th>2</th>\n",
       "      <td>2</td>\n",
       "      <td>3</td>\n",
       "      <td>Gunnar Nielsen Aaby</td>\n",
       "      <td>M</td>\n",
       "      <td>24</td>\n",
       "      <td>0</td>\n",
       "      <td>0.0</td>\n",
       "      <td>Denmark</td>\n",
       "      <td>DEN</td>\n",
       "      <td>1920 Summer</td>\n",
       "      <td>1920</td>\n",
       "      <td>Summer</td>\n",
       "      <td>Antwerpen</td>\n",
       "      <td>Football</td>\n",
       "      <td>Football Men's Football</td>\n",
       "      <td>0</td>\n",
       "    </tr>\n",
       "    <tr>\n",
       "      <th>3</th>\n",
       "      <td>3</td>\n",
       "      <td>4</td>\n",
       "      <td>Edgar Lindenau Aabye</td>\n",
       "      <td>M</td>\n",
       "      <td>34</td>\n",
       "      <td>0</td>\n",
       "      <td>0.0</td>\n",
       "      <td>Denmark/Sweden</td>\n",
       "      <td>DEN</td>\n",
       "      <td>1900 Summer</td>\n",
       "      <td>1900</td>\n",
       "      <td>Summer</td>\n",
       "      <td>Paris</td>\n",
       "      <td>Tug-Of-War</td>\n",
       "      <td>Tug-Of-War Men's Tug-Of-War</td>\n",
       "      <td>Gold</td>\n",
       "    </tr>\n",
       "    <tr>\n",
       "      <th>4</th>\n",
       "      <td>4</td>\n",
       "      <td>5</td>\n",
       "      <td>Christine Jacoba Aaftink</td>\n",
       "      <td>F</td>\n",
       "      <td>21</td>\n",
       "      <td>185</td>\n",
       "      <td>82.0</td>\n",
       "      <td>Netherlands</td>\n",
       "      <td>NED</td>\n",
       "      <td>1988 Winter</td>\n",
       "      <td>1988</td>\n",
       "      <td>Winter</td>\n",
       "      <td>Calgary</td>\n",
       "      <td>Speed Skating</td>\n",
       "      <td>Speed Skating Women's 500 metres</td>\n",
       "      <td>0</td>\n",
       "    </tr>\n",
       "  </tbody>\n",
       "</table>\n",
       "</div>"
      ],
      "text/plain": [
       "   Unnamed: 0  ID                      Name Sex  Age  Height  Weight  \\\n",
       "0           0   1                 A Dijiang   M   24     180    80.0   \n",
       "1           1   2                  A Lamusi   M   23     170    60.0   \n",
       "2           2   3       Gunnar Nielsen Aaby   M   24       0     0.0   \n",
       "3           3   4      Edgar Lindenau Aabye   M   34       0     0.0   \n",
       "4           4   5  Christine Jacoba Aaftink   F   21     185    82.0   \n",
       "\n",
       "             Team  NOC        Games  Year  Season       City          Sport  \\\n",
       "0           China  CHN  1992 Summer  1992  Summer  Barcelona     Basketball   \n",
       "1           China  CHN  2012 Summer  2012  Summer     London           Judo   \n",
       "2         Denmark  DEN  1920 Summer  1920  Summer  Antwerpen       Football   \n",
       "3  Denmark/Sweden  DEN  1900 Summer  1900  Summer      Paris     Tug-Of-War   \n",
       "4     Netherlands  NED  1988 Winter  1988  Winter    Calgary  Speed Skating   \n",
       "\n",
       "                              Event Medal  \n",
       "0       Basketball Men's Basketball     0  \n",
       "1      Judo Men's Extra-Lightweight     0  \n",
       "2           Football Men's Football     0  \n",
       "3       Tug-Of-War Men's Tug-Of-War  Gold  \n",
       "4  Speed Skating Women's 500 metres     0  "
      ]
     },
     "execution_count": 32,
     "metadata": {},
     "output_type": "execute_result"
    }
   ],
   "source": [
    "df = pd.read_csv(PATH)\n",
    "df.head()"
   ]
  },
  {
   "cell_type": "code",
   "execution_count": 66,
   "metadata": {},
   "outputs": [
    {
     "data": {
      "text/html": [
       "<table>\n",
       "<tbody>\n",
       "<tr><td style=\"text-align: right;\">0</td><td style=\"text-align: right;\">1</td><td>A Dijiang          </td><td>M</td><td style=\"text-align: right;\">24</td><td style=\"text-align: right;\">180</td><td style=\"text-align: right;\">80</td><td>China  </td><td>CHN</td><td>1992 Summer</td><td style=\"text-align: right;\">1992</td><td>Summer</td><td>Barcelona</td><td>Basketball</td><td>Basketball Men's Basketball </td><td style=\"text-align: right;\">0</td></tr>\n",
       "<tr><td style=\"text-align: right;\">1</td><td style=\"text-align: right;\">2</td><td>A Lamusi           </td><td>M</td><td style=\"text-align: right;\">23</td><td style=\"text-align: right;\">170</td><td style=\"text-align: right;\">60</td><td>China  </td><td>CHN</td><td>2012 Summer</td><td style=\"text-align: right;\">2012</td><td>Summer</td><td>London   </td><td>Judo      </td><td>Judo Men's Extra-Lightweight</td><td style=\"text-align: right;\">0</td></tr>\n",
       "<tr><td style=\"text-align: right;\">2</td><td style=\"text-align: right;\">3</td><td>Gunnar Nielsen Aaby</td><td>M</td><td style=\"text-align: right;\">24</td><td style=\"text-align: right;\">  0</td><td style=\"text-align: right;\"> 0</td><td>Denmark</td><td>DEN</td><td>1920 Summer</td><td style=\"text-align: right;\">1920</td><td>Summer</td><td>Antwerpen</td><td>Football  </td><td>Football Men's Football     </td><td style=\"text-align: right;\">0</td></tr>\n",
       "</tbody>\n",
       "</table>"
      ],
      "text/plain": [
       "<IPython.core.display.HTML object>"
      ]
     },
     "metadata": {},
     "output_type": "display_data"
    }
   ],
   "source": [
    "cursor.execute(\n",
    "    '''\n",
    "    SELECT * FROM olympics LIMIT 3    \n",
    "    '''\n",
    ")\n",
    "fetch_all(cursor)"
   ]
  },
  {
   "cell_type": "markdown",
   "metadata": {},
   "source": [
    "# Solutions:"
   ]
  },
  {
   "cell_type": "markdown",
   "metadata": {},
   "source": [
    "__1. How old were the youngest male and female participants of the 1996 Olympics?__\n",
    "\n",
    "- 16 and 15\n",
    "- 14 and 12 +\n",
    "- 16 and 12\n",
    "- 13 and 11"
   ]
  },
  {
   "cell_type": "code",
   "execution_count": 86,
   "metadata": {},
   "outputs": [
    {
     "data": {
      "text/html": [
       "<table>\n",
       "<tbody>\n",
       "<tr><td style=\"text-align: right;\">14</td></tr>\n",
       "</tbody>\n",
       "</table>"
      ],
      "text/plain": [
       "<IPython.core.display.HTML object>"
      ]
     },
     "metadata": {},
     "output_type": "display_data"
    },
    {
     "data": {
      "text/html": [
       "<table>\n",
       "<tbody>\n",
       "<tr><td style=\"text-align: right;\">12</td></tr>\n",
       "</tbody>\n",
       "</table>"
      ],
      "text/plain": [
       "<IPython.core.display.HTML object>"
      ]
     },
     "metadata": {},
     "output_type": "display_data"
    }
   ],
   "source": [
    "cursor.execute(\n",
    "    '''\n",
    "SELECT MIN(age) FROM olympics WHERE sex = 'M' AND year = 1996 AND age > 0    \n",
    "    '''\n",
    ")\n",
    "fetch_all(cursor)\n",
    "\n",
    "cursor.execute(\n",
    "    '''\n",
    "SELECT MIN(age) FROM olympics WHERE sex = 'F' AND year = 1996 AND age > 0    \n",
    "    '''\n",
    ")\n",
    "fetch_all(cursor)"
   ]
  },
  {
   "cell_type": "markdown",
   "metadata": {},
   "source": [
    "__2. What was the percentage of male gymnasts among all the male participants of the 2000 Olympics? Round the answer to the first decimal.__\n",
    "\n",
    "*Hint:* here and further if needed drop duplicated sportsmen to count only unique ones. \n",
    "\n",
    "- 0.2\n",
    "- 1.5 +\n",
    "- 2.5\n",
    "- 7.7"
   ]
  },
  {
   "cell_type": "code",
   "execution_count": 95,
   "metadata": {},
   "outputs": [
    {
     "data": {
      "text/html": [
       "<table>\n",
       "<tbody>\n",
       "<tr><td style=\"text-align: right;\">1.5</td></tr>\n",
       "</tbody>\n",
       "</table>"
      ],
      "text/plain": [
       "<IPython.core.display.HTML object>"
      ]
     },
     "metadata": {},
     "output_type": "display_data"
    }
   ],
   "source": [
    "cursor.execute(\n",
    "    '''\n",
    "SELECT ROUND((COUNT(DISTINCT(id)) / (SELECT COUNT(DISTINCT(id))\n",
    "FROM olympics\n",
    "    WHERE sex = 'M' AND year = 2000)::numeric) * 100, 1)\n",
    "FROM olympics\n",
    "    WHERE sport = 'Gymnastics' AND sex = 'M' AND year = 2000;\n",
    "    '''\n",
    ")\n",
    "fetch_all(cursor)"
   ]
  },
  {
   "cell_type": "markdown",
   "metadata": {},
   "source": [
    "__3. What are the mean and standard deviation of height for female basketball players participated in the 2000 Olympics? Round the answer to the first decimal.__\n",
    "\n",
    "- 178.5 and 7.2\n",
    "- 179.4 and 10\n",
    "- 180.7 and 6.7\n",
    "- 182.4 and 9.1 +"
   ]
  },
  {
   "cell_type": "code",
   "execution_count": 123,
   "metadata": {},
   "outputs": [
    {
     "data": {
      "text/html": [
       "<table>\n",
       "<tbody>\n",
       "<tr><td style=\"text-align: right;\">182.4</td><td style=\"text-align: right;\">9.1</td></tr>\n",
       "</tbody>\n",
       "</table>"
      ],
      "text/plain": [
       "<IPython.core.display.HTML object>"
      ]
     },
     "metadata": {},
     "output_type": "display_data"
    }
   ],
   "source": [
    "cursor.execute(\n",
    "    '''\n",
    "SELECT ROUND(AVG(crit.height)::numeric, 1) AS \"mean\",\n",
    "    ROUND(STDDEV(crit.height)::numeric, 1) AS \"stddev\"\n",
    "FROM (SELECT DISTINCT id, height FROM olympics\n",
    "    WHERE sex = 'F' AND sport = 'Basketball' AND year = 2000 AND height > 0) AS crit\n",
    "    '''\n",
    ")\n",
    "fetch_all(cursor)"
   ]
  },
  {
   "cell_type": "markdown",
   "metadata": {},
   "source": [
    "__4. Find a sportsperson participated in the 2002 Olympics, with the highest weight among other participants of the same Olympics. What sport did he or she do?__\n",
    "\n",
    "- Judo\n",
    "- Bobsleigh +\n",
    "- Weightlifting\n",
    "- Boxing"
   ]
  },
  {
   "cell_type": "code",
   "execution_count": 128,
   "metadata": {},
   "outputs": [
    {
     "data": {
      "text/html": [
       "<table>\n",
       "<tbody>\n",
       "<tr><td>Bobsleigh</td></tr>\n",
       "</tbody>\n",
       "</table>"
      ],
      "text/plain": [
       "<IPython.core.display.HTML object>"
      ]
     },
     "metadata": {},
     "output_type": "display_data"
    }
   ],
   "source": [
    "cursor.execute(\n",
    "    '''\n",
    "SELECT sport\n",
    "FROM olympics\n",
    "    WHERE year = 2002 AND weight=(SELECT MAX(weight) FROM olympics WHERE year = 2002)\n",
    "    '''\n",
    ")\n",
    "fetch_all(cursor)"
   ]
  },
  {
   "cell_type": "markdown",
   "metadata": {},
   "source": [
    "__5. How many times did Pawe Abratkiewicz participate in the Olympics held in different years?__\n",
    "\n",
    "- 0\n",
    "- 1 \n",
    "- 2\n",
    "- 3 +"
   ]
  },
  {
   "cell_type": "code",
   "execution_count": 129,
   "metadata": {},
   "outputs": [
    {
     "data": {
      "text/html": [
       "<table>\n",
       "<tbody>\n",
       "<tr><td style=\"text-align: right;\">3</td></tr>\n",
       "</tbody>\n",
       "</table>"
      ],
      "text/plain": [
       "<IPython.core.display.HTML object>"
      ]
     },
     "metadata": {},
     "output_type": "display_data"
    }
   ],
   "source": [
    "cursor.execute(\n",
    "    '''\n",
    "SELECT COUNT(DISTINCT(year))\n",
    "FROM olympics\n",
    "    WHERE name = 'Pawe Abratkiewicz'\n",
    "    '''\n",
    ")\n",
    "fetch_all(cursor)"
   ]
  },
  {
   "cell_type": "markdown",
   "metadata": {},
   "source": [
    "__6. How many silver medals in tennis did Australia win at the 2000 Olympics?__\n",
    "\n",
    "- 0\n",
    "- 1 \n",
    "- 2 +\n",
    "- 3 "
   ]
  },
  {
   "cell_type": "code",
   "execution_count": 142,
   "metadata": {},
   "outputs": [
    {
     "data": {
      "text/html": [
       "<table>\n",
       "<tbody>\n",
       "<tr><td style=\"text-align: right;\">2</td></tr>\n",
       "</tbody>\n",
       "</table>"
      ],
      "text/plain": [
       "<IPython.core.display.HTML object>"
      ]
     },
     "metadata": {},
     "output_type": "display_data"
    }
   ],
   "source": [
    "cursor.execute(\n",
    "    '''\n",
    "SELECT COUNT(*)\n",
    "FROM olympics\n",
    "    WHERE medal = 'Silver' AND sport = 'Tennis' AND team = 'Australia' AND year = 2000\n",
    "    '''\n",
    ")\n",
    "fetch_all(cursor)"
   ]
  },
  {
   "cell_type": "markdown",
   "metadata": {},
   "source": [
    "__7. Is it true that Switzerland won fewer medals than Serbia at the 2016 Olympics? Do not consider NaN values in _Medal_ column.__ \n",
    "\n",
    "- Yes +\n",
    "- No"
   ]
  },
  {
   "cell_type": "code",
   "execution_count": 14,
   "metadata": {},
   "outputs": [
    {
     "data": {
      "text/html": [
       "<table>\n",
       "<tbody>\n",
       "<tr><td>True</td></tr>\n",
       "</tbody>\n",
       "</table>"
      ],
      "text/plain": [
       "<IPython.core.display.HTML object>"
      ]
     },
     "metadata": {},
     "output_type": "display_data"
    }
   ],
   "source": [
    "cursor.execute(\n",
    "    '''\n",
    "SELECT(SELECT COUNT(*)\n",
    "FROM olympics\n",
    "    WHERE team = 'Switzerland' AND year = 2016 AND medal != '0') <\n",
    "(SELECT COUNT(*)\n",
    "FROM olympics\n",
    "    WHERE team = 'Serbia' AND year = 2016 AND medal != '0') AS ans\n",
    "    '''\n",
    ")\n",
    "fetch_all(cursor)"
   ]
  },
  {
   "cell_type": "markdown",
   "metadata": {},
   "source": [
    "__8. What age category did the fewest and the most participants of the 2014 Olympics belong to?__\n",
    "- [45-55] and [25-35) correspondingly +\n",
    "- [45-55] and [15-25) correspondingly\n",
    "- [35-45] and [25-35) correspondingly\n",
    "- [45-55] and [35-45) correspondingly"
   ]
  },
  {
   "cell_type": "code",
   "execution_count": 28,
   "metadata": {},
   "outputs": [],
   "source": [
    "cursor.execute(\n",
    "    '''\n",
    "    DROP TABLE age_intervals\n",
    "    '''\n",
    ")\n",
    "conn.commit()"
   ]
  },
  {
   "cell_type": "code",
   "execution_count": 29,
   "metadata": {},
   "outputs": [
    {
     "data": {
      "text/html": [
       "<table>\n",
       "<tbody>\n",
       "<tr><td>[45-55]/[23-35)</td><td style=\"text-align: right;\">  5</td><td style=\"text-align: right;\">2594</td></tr>\n",
       "<tr><td>[45-55]/[15-25)</td><td style=\"text-align: right;\">  5</td><td style=\"text-align: right;\">2027</td></tr>\n",
       "<tr><td>[35-45]/[25-35)</td><td style=\"text-align: right;\">266</td><td style=\"text-align: right;\">2594</td></tr>\n",
       "<tr><td>[45-55]/[35-45)</td><td style=\"text-align: right;\">  4</td><td style=\"text-align: right;\"> 265</td></tr>\n",
       "</tbody>\n",
       "</table>"
      ],
      "text/plain": [
       "<IPython.core.display.HTML object>"
      ]
     },
     "metadata": {},
     "output_type": "display_data"
    }
   ],
   "source": [
    "cursor.execute(\n",
    "    '''\n",
    "CREATE TABLE age_intervals(interval VARCHAR, fewest INTEGER, most INTEGER);\n",
    "INSERT INTO age_intervals VALUES('[45-55]/[23-35)', (SELECT COUNT(*) FROM olympics WHERE age >= 45 AND age <= 55 AND year = 2014),\n",
    "                                    (SELECT COUNT(*) FROM olympics WHERE age >= 25 AND age < 35 AND year = 2014));\n",
    "INSERT INTO age_intervals VALUES('[45-55]/[15-25)', (SELECT COUNT(*) FROM olympics WHERE age >= 45 AND age <= 55 AND year = 2014),\n",
    "                                    (SELECT COUNT(*) FROM olympics WHERE age >= 15 AND age < 25 AND year = 2014));\n",
    "INSERT INTO age_intervals VALUES('[35-45]/[25-35)', (SELECT COUNT(*) FROM olympics WHERE age >= 35 AND age <= 45 AND year = 2014),\n",
    "                                    (SELECT COUNT(*) FROM olympics WHERE age >= 25 AND age < 35 AND year = 2014));\n",
    "INSERT INTO age_intervals VALUES('[45-55]/[35-45)', (SELECT COUNT(*) FROM olympics WHERE age >= 45 AND age < 55 AND year = 2014),\n",
    "                                    (SELECT COUNT(*) FROM olympics WHERE age >= 35 AND age < 45 AND year = 2014));\n",
    "    '''\n",
    ")\n",
    "conn.commit()\n",
    "\n",
    "cursor.execute(\n",
    "    '''\n",
    "SELECT * FROM age_intervals\n",
    "    '''\n",
    ")\n",
    "fetch_all(cursor)"
   ]
  },
  {
   "cell_type": "markdown",
   "metadata": {},
   "source": [
    "__9. Is it true that there were Summer Olympics held in Lake Placid? Is it true that there were Winter Olympics held in Sankt Moritz?__\n",
    "\n",
    "- Yes, Yes\n",
    "- Yes, No\n",
    "- No, Yes +\n",
    "- No, No "
   ]
  },
  {
   "cell_type": "code",
   "execution_count": 34,
   "metadata": {},
   "outputs": [
    {
     "data": {
      "text/html": [
       "<table>\n",
       "<tbody>\n",
       "<tr><td>False</td><td>True</td></tr>\n",
       "</tbody>\n",
       "</table>"
      ],
      "text/plain": [
       "<IPython.core.display.HTML object>"
      ]
     },
     "metadata": {},
     "output_type": "display_data"
    }
   ],
   "source": [
    "cursor.execute(\n",
    "    '''\n",
    "SELECT (SELECT COUNT(*) > 0\n",
    "FROM olympics\n",
    "    WHERE city = 'Lake Placid' AND season = 'Summer') AS placid,\n",
    "(SELECT COUNT(*) > 0\n",
    "FROM olympics\n",
    "    WHERE city = 'Sankt Moritz' AND season = 'Winter') AS moritz\n",
    "    '''\n",
    ")\n",
    "fetch_all(cursor)"
   ]
  },
  {
   "cell_type": "markdown",
   "metadata": {},
   "source": [
    "__10. What is the absolute difference between the number of unique sports at the 1995 Olympics and 2016 Olympics?__\n",
    "\n",
    "- 16\n",
    "- 24\n",
    "- 26\n",
    "- 34 +"
   ]
  },
  {
   "cell_type": "code",
   "execution_count": 44,
   "metadata": {},
   "outputs": [
    {
     "data": {
      "text/html": [
       "<table>\n",
       "<tbody>\n",
       "<tr><td style=\"text-align: right;\">34</td></tr>\n",
       "</tbody>\n",
       "</table>"
      ],
      "text/plain": [
       "<IPython.core.display.HTML object>"
      ]
     },
     "metadata": {},
     "output_type": "display_data"
    }
   ],
   "source": [
    "cursor.execute(\n",
    "    '''\n",
    "SELECT ABS((SELECT COUNT (DISTINCT sport)\n",
    "FROM olympics\n",
    "    WHERE year = 1995) -\n",
    "    (SELECT (SELECT COUNT (DISTINCT sport)\n",
    "FROM olympics\n",
    "    WHERE year = 2016)))\n",
    "    '''\n",
    ")\n",
    "fetch_all(cursor)"
   ]
  }
 ],
 "metadata": {
  "kernelspec": {
   "display_name": "Python 3",
   "language": "python",
   "name": "python3"
  },
  "language_info": {
   "codemirror_mode": {
    "name": "ipython",
    "version": 3
   },
   "file_extension": ".py",
   "mimetype": "text/x-python",
   "name": "python",
   "nbconvert_exporter": "python",
   "pygments_lexer": "ipython3",
   "version": "3.8.1"
  }
 },
 "nbformat": 4,
 "nbformat_minor": 4
}
